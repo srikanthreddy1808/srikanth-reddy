{
  "cells": [
    {
      "cell_type": "markdown",
      "metadata": {
        "id": "view-in-github",
        "colab_type": "text"
      },
      "source": [
        "<a href=\"https://colab.research.google.com/github/srikanthreddy1808/srikanth-reddy/blob/main/Welcome_To_Colab.ipynb\" target=\"_parent\"><img src=\"https://colab.research.google.com/assets/colab-badge.svg\" alt=\"Open In Colab\"/></a>"
      ]
    },
    {
      "cell_type": "code",
      "source": [
        "x = 5\n",
        "y = 6\n",
        "print(x + y)"
      ],
      "metadata": {
        "colab": {
          "base_uri": "https://localhost:8080/"
        },
        "id": "G2QCMncoLH20",
        "outputId": "0256a08a-5a99-4374-a64c-8e52b70f6266"
      },
      "execution_count": 4,
      "outputs": [
        {
          "output_type": "stream",
          "name": "stdout",
          "text": [
            "11\n"
          ]
        }
      ]
    },
    {
      "cell_type": "code",
      "source": [
        "x = int(input(\"enter a num: \"))\n",
        "y = 6\n",
        "print(x + y)"
      ],
      "metadata": {
        "colab": {
          "base_uri": "https://localhost:8080/"
        },
        "id": "7qZU_7wKOdkL",
        "outputId": "051d54b2-35dc-4d8c-ae13-2f73bcf900d6"
      },
      "execution_count": 6,
      "outputs": [
        {
          "output_type": "stream",
          "name": "stdout",
          "text": [
            "enter a num: 5\n",
            "11\n"
          ]
        }
      ]
    },
    {
      "cell_type": "code",
      "source": [
        "while True:\n",
        "  x = int(input(\"enter the num: \"))\n",
        "  y = int(input(\"enter the num: \"))\n",
        "  print(x + y)\n",
        "  break"
      ],
      "metadata": {
        "colab": {
          "base_uri": "https://localhost:8080/"
        },
        "id": "6uHWsB7QOx0e",
        "outputId": "f2f40544-c4e9-440a-a224-a347f218f9e1"
      },
      "execution_count": 9,
      "outputs": [
        {
          "output_type": "stream",
          "name": "stdout",
          "text": [
            "enter the num: 45\n",
            "enter the num: 45\n",
            "90\n"
          ]
        }
      ]
    },
    {
      "cell_type": "code",
      "source": [
        "while True:\n",
        "  x =int(input(\"enter the num: \"))\n",
        "  y =int(input(\"enter the num: \"))\n",
        "  c =input(\"enter the operator: \")\n",
        "  if c == '+':\n",
        "    print(x + y)\n",
        "  elif c == '-':\n",
        "    print(x - y)\n",
        "  elif c == '*':\n",
        "    print(x * y)\n",
        "  elif c == '/':\n",
        "    print(x / y)\n",
        "  else:\n",
        "    print(\"noob\")\n",
        "  break"
      ],
      "metadata": {
        "id": "2_YyrovJP8Q5",
        "outputId": "a4b43167-47c3-438e-83b3-e3f632476aa3",
        "colab": {
          "base_uri": "https://localhost:8080/"
        }
      },
      "execution_count": 12,
      "outputs": [
        {
          "output_type": "stream",
          "name": "stdout",
          "text": [
            "enter the num: 45\n",
            "enter the num: 56\n",
            "entre the operator: *\n",
            "2520\n"
          ]
        }
      ]
    },
    {
      "cell_type": "code",
      "source": [
        "n = 5  # Number of rows\n",
        "\n",
        "for i in range(1, n + 1):\n",
        "    print(\"* \" * i)\n"
      ],
      "metadata": {
        "id": "9LRfICalSnQb",
        "outputId": "6c4bd60d-538f-491b-d1ff-aa9102528e18",
        "colab": {
          "base_uri": "https://localhost:8080/"
        }
      },
      "execution_count": 19,
      "outputs": [
        {
          "output_type": "stream",
          "name": "stdout",
          "text": [
            "* \n",
            "* * \n",
            "* * * \n",
            "* * * * \n",
            "* * * * * \n"
          ]
        }
      ]
    }
  ],
  "metadata": {
    "colab": {
      "name": "Welcome To Colab",
      "toc_visible": true,
      "provenance": [],
      "include_colab_link": true
    },
    "kernelspec": {
      "display_name": "Python 3",
      "name": "python3"
    }
  },
  "nbformat": 4,
  "nbformat_minor": 0
}